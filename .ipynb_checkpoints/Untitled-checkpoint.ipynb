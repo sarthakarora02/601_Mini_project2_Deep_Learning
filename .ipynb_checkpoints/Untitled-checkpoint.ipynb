{
 "cells": [
  {
   "cell_type": "code",
   "execution_count": 4,
   "metadata": {},
   "outputs": [],
   "source": [
    "import tensorflow as tf"
   ]
  },
  {
   "cell_type": "code",
   "execution_count": 5,
   "metadata": {},
   "outputs": [],
   "source": [
    "from tensorflow import keras"
   ]
  },
  {
   "cell_type": "code",
   "execution_count": 6,
   "metadata": {},
   "outputs": [
    {
     "name": "stdout",
     "output_type": "stream",
     "text": [
      "1.11.0\n"
     ]
    }
   ],
   "source": [
    "import numpy as np\n",
    "import matplotlib.pyplot as plt\n",
    "\n",
    "print(tf.__version__)"
   ]
  },
  {
   "cell_type": "code",
   "execution_count": 7,
   "metadata": {},
   "outputs": [
    {
     "name": "stdout",
     "output_type": "stream",
     "text": [
      "Untitled.ipynb   \u001b[34mtrain_images\u001b[m\u001b[m     train_labels.csv training.py\r\n"
     ]
    }
   ],
   "source": [
    "!ls"
   ]
  },
  {
   "cell_type": "code",
   "execution_count": 12,
   "metadata": {},
   "outputs": [],
   "source": [
    "folder = './train_images'\n",
    "import os"
   ]
  },
  {
   "cell_type": "code",
   "execution_count": 14,
   "metadata": {},
   "outputs": [
    {
     "data": {
      "text/plain": [
       "697"
      ]
     },
     "execution_count": 14,
     "metadata": {},
     "output_type": "execute_result"
    }
   ],
   "source": [
    "filenames = os.listdir(folder)\n",
    "len(filenames)"
   ]
  },
  {
   "cell_type": "code",
   "execution_count": 15,
   "metadata": {},
   "outputs": [
    {
     "data": {
      "text/plain": [
       "'img_103.jpg'"
      ]
     },
     "execution_count": 15,
     "metadata": {},
     "output_type": "execute_result"
    }
   ],
   "source": [
    "filenames[12]"
   ]
  },
  {
   "cell_type": "code",
   "execution_count": 16,
   "metadata": {},
   "outputs": [
    {
     "data": {
      "text/plain": [
       "'img_329.jpg'"
      ]
     },
     "execution_count": 16,
     "metadata": {},
     "output_type": "execute_result"
    }
   ],
   "source": [
    "filenames[0]"
   ]
  },
  {
   "cell_type": "code",
   "execution_count": 17,
   "metadata": {},
   "outputs": [
    {
     "name": "stdout",
     "output_type": "stream",
     "text": [
      "n train samples 697\n"
     ]
    }
   ],
   "source": [
    "print('n train samples', len(filenames))"
   ]
  },
  {
   "cell_type": "code",
   "execution_count": 45,
   "metadata": {},
   "outputs": [],
   "source": [
    "path = os.getcwd()\n",
    "path_new = os.path.join(path,'train_images/')"
   ]
  },
  {
   "cell_type": "code",
   "execution_count": 56,
   "metadata": {},
   "outputs": [],
   "source": [
    "img_arr = plt.imread(os.path.join(path_new,filenames[0]))"
   ]
  },
  {
   "cell_type": "code",
   "execution_count": 58,
   "metadata": {},
   "outputs": [
    {
     "data": {
      "text/plain": [
       "<matplotlib.image.AxesImage at 0xb342cc390>"
      ]
     },
     "execution_count": 58,
     "metadata": {},
     "output_type": "execute_result"
    },
    {
     "data": {
      "image/png": "[encoded data removed]",
      "text/plain": [
       "<Figure size 432x288 with 1 Axes>"
      ]
     },
     "metadata": {
      "needs_background": "light"
     },
     "output_type": "display_data"
    }
   ],
   "source": [
    "plt.imshow(np.float32(img_arr))"
   ]
  },
  {
   "cell_type": "code",
   "execution_count": 75,
   "metadata": {},
   "outputs": [
    {
     "name": "stdout",
     "output_type": "stream",
     "text": [
      "[[0.         0.03529412 0.         0.00392157 0.         0.\n",
      "  0.00784314 0.00784314 0.         0.         0.         0.\n",
      "  0.         0.         0.         0.         0.00392157 0.\n",
      "  0.01960784 0.         0.00392157 1.         1.         0.\n",
      "  0.02745098 0.00784314 0.03921569 0.00392157]\n",
      " [0.00784314 0.         0.10588235 0.         0.         0.04313725\n",
      "  0.         0.         0.         0.         0.         0.\n",
      "  0.         0.         0.         0.         0.01568627 0.02745098\n",
      "  0.         0.08627451 0.96862745 0.97254902 0.96862745 1.\n",
      "  0.97254902 0.         0.         0.        ]\n",
      " [0.         0.02352941 0.         0.01960784 0.         0.01568627\n",
      "  0.01568627 0.03137255 0.         0.         0.         0.\n",
      "  0.         0.         0.         0.         0.         0.\n",
      "  0.07058824 0.93333333 1.         0.99607843 1.         0.96470588\n",
      "  1.         0.01568627 0.00392157 0.03921569]\n",
      " [0.02745098 0.06666667 0.04313725 0.00784314 0.01568627 0.\n",
      "  0.01960784 0.         0.         0.         0.         0.\n",
      "  0.         0.         0.         0.         0.00392157 0.00392157\n",
      "  0.         0.         0.98431373 1.         0.         1.\n",
      "  0.99607843 1.         0.         0.        ]\n",
      " [0.         0.         0.90588235 1.         1.         0.05098039\n",
      "  0.         0.         0.         0.         0.         0.\n",
      "  0.         0.         0.         0.         0.01176471 0.02352941\n",
      "  0.03137255 0.03921569 0.96862745 0.98823529 0.97647059 0.95686275\n",
      "  0.98823529 0.98039216 1.         0.04313725]\n",
      " [0.         1.         1.         0.89803922 1.         1.\n",
      "  0.         0.08235294 0.         0.         0.         0.\n",
      "  0.         0.         0.         0.         0.01176471 0.\n",
      "  0.         0.05098039 0.97254902 1.         1.         1.\n",
      "  0.96862745 1.         0.9372549  0.        ]\n",
      " [0.03137255 0.9372549  1.         1.         0.99607843 0.96470588\n",
      "  0.99607843 0.         0.         0.         0.         0.\n",
      "  0.         0.         0.         0.         0.         0.08627451\n",
      "  0.         0.         0.         0.00392157 0.94117647 1.\n",
      "  1.         1.         1.         0.        ]\n",
      " [1.         1.         0.98039216 0.01568627 0.98823529 1.\n",
      "  0.         0.00392157 0.         0.         0.         0.\n",
      "  0.         0.         0.         0.         0.         0.\n",
      "  0.         0.00784314 0.03921569 0.02352941 0.         1.\n",
      "  0.99215686 0.99215686 0.98823529 0.00392157]\n",
      " [0.98039216 1.         1.         1.         0.97647059 1.\n",
      "  0.         0.         0.02745098 0.         0.         0.02352941\n",
      "  0.         0.05882353 0.         0.01176471 0.03529412 0.\n",
      "  0.05882353 0.         0.01960784 0.         0.05490196 0.94901961\n",
      "  0.99607843 1.         0.98823529 0.01568627]\n",
      " [1.         0.97647059 0.         0.98823529 1.         1.\n",
      "  0.         0.01176471 0.         0.04705882 0.         0.00784314\n",
      "  0.         0.         0.01960784 0.03921569 0.         0.\n",
      "  0.0627451  0.         0.         0.01568627 0.         0.05490196\n",
      "  0.99607843 1.         0.98823529 0.01568627]\n",
      " [1.         0.96862745 1.         1.         0.         0.\n",
      "  0.01568627 0.00784314 0.04705882 0.         0.01568627 0.01176471\n",
      "  0.03921569 1.         1.         0.9372549  0.02745098 0.00392157\n",
      "  0.         0.         0.         0.         0.04705882 0.\n",
      "  0.99607843 1.         0.98823529 0.01568627]\n",
      " [0.91372549 1.         0.90588235 1.         0.         0.01176471\n",
      "  0.03921569 0.         0.         0.         0.01960784 0.\n",
      "  0.97647059 1.         0.90980392 1.         0.01568627 0.\n",
      "  0.         0.07843137 0.01568627 0.         0.03921569 0.02352941\n",
      "  0.99607843 1.         0.98823529 0.01568627]\n",
      " [1.         0.98823529 1.         0.01568627 0.02745098 0.\n",
      "  0.         0.         0.         0.09411765 0.         0.\n",
      "  0.04705882 0.98823529 1.         1.         0.         0.01176471\n",
      "  0.01176471 0.         0.00784314 0.01568627 0.         0.\n",
      "  0.99607843 1.         0.98823529 0.01568627]\n",
      " [1.         0.99607843 1.         0.92156863 0.         0.05490196\n",
      "  0.         0.07058824 0.         0.         0.00392157 0.\n",
      "  0.03137255 0.96078431 0.96470588 1.         0.         0.01568627\n",
      "  0.01960784 0.         0.         0.05098039 0.         0.05882353\n",
      "  0.99607843 1.         0.98823529 0.01568627]\n",
      " [0.98039216 1.         1.         0.96078431 0.0627451  0.03529412\n",
      "  0.         0.         0.         0.05882353 0.         0.06666667\n",
      "  0.96078431 1.         1.         0.97647059 0.         0.\n",
      "  0.02352941 0.03529412 0.01960784 0.         0.         0.00784314\n",
      "  0.99607843 1.         0.98823529 0.01568627]\n",
      " [1.         0.95294118 1.         0.         0.         0.\n",
      "  0.01568627 0.00784314 0.03137255 0.         0.01960784 0.\n",
      "  1.         1.         0.97647059 1.         0.04313725 0.\n",
      "  0.         0.01568627 0.         0.         0.04705882 0.\n",
      "  0.99607843 1.         0.98823529 0.01568627]\n",
      " [0.96078431 1.         0.97647059 0.97254902 0.05882353 0.\n",
      "  0.         0.02352941 0.03529412 0.         0.         0.04313725\n",
      "  0.94901961 1.         1.         0.96078431 0.01960784 0.\n",
      "  0.         0.         0.00392157 0.         0.02352941 0.98039216\n",
      "  1.         0.98823529 1.         0.        ]\n",
      " [1.         0.94509804 0.96470588 1.         0.         0.\n",
      "  0.03921569 0.02745098 0.         0.04705882 0.00784314 0.94509804\n",
      "  1.         0.98039216 0.98039216 1.         0.         0.02745098\n",
      "  0.01568627 0.         0.         0.         0.00784314 1.\n",
      "  0.98823529 1.         1.         0.        ]\n",
      " [0.96470588 1.         1.         0.99215686 0.01960784 0.01568627\n",
      "  0.02352941 0.         0.06666667 0.         0.98039216 1.\n",
      "  0.96078431 0.04705882 0.99215686 0.97647059 0.         0.\n",
      "  0.         0.05882353 0.01176471 0.         1.         1.\n",
      "  1.         0.97254902 1.         0.04313725]\n",
      " [1.         0.96862745 1.         0.96862745 1.         0.02745098\n",
      "  0.         0.05098039 0.         0.97254902 1.         1.\n",
      "  1.         0.         0.90980392 1.         0.06666667 0.\n",
      "  0.         0.         0.         0.02745098 0.96078431 0.97254902\n",
      "  0.99607843 1.         0.         0.        ]\n",
      " [0.02352941 1.         0.98823529 1.         0.97254902 0.\n",
      "  0.01568627 0.94901961 0.94901961 1.         0.95686275 0.98039216\n",
      "  1.         1.         1.         0.97254902 1.         0.92941176\n",
      "  0.06666667 0.01960784 0.03137255 0.99607843 1.         1.\n",
      "  1.         0.94901961 0.06666667 0.        ]\n",
      " [0.         1.         0.95686275 0.94901961 1.         1.\n",
      "  1.         0.99607843 1.         0.96862745 0.99215686 1.\n",
      "  0.98431373 0.94901961 1.         1.         0.9372549  1.\n",
      "  1.         0.         1.         1.         0.98039216 0.97254902\n",
      "  0.96470588 0.96470588 0.08627451 0.        ]\n",
      " [0.         0.99607843 1.         1.         0.90588235 1.\n",
      "  0.94117647 1.         0.96470588 0.99215686 1.         1.\n",
      "  1.         0.92941176 1.         0.97254902 1.         1.\n",
      "  0.90196078 0.98823529 1.         0.98823529 0.98823529 1.\n",
      "  1.         0.03529412 0.         0.        ]\n",
      " [0.         0.03137255 0.95686275 0.98431373 0.02352941 0.\n",
      "  1.         0.99607843 1.         1.         0.94509804 1.\n",
      "  0.         1.         0.92941176 1.         0.99607843 0.94117647\n",
      "  1.         1.         0.97254902 1.         0.97254902 1.\n",
      "  1.         0.         0.00784314 0.03529412]\n",
      " [0.01568627 0.         1.         0.99607843 1.         0.99607843\n",
      "  1.         1.         0.96078431 1.         0.97647059 0.\n",
      "  0.02352941 0.         0.97647059 1.         0.97254902 1.\n",
      "  0.         0.01176471 0.97254902 0.99215686 1.         0.98039216\n",
      "  0.         0.         0.         0.        ]\n",
      " [0.03137255 0.01568627 0.01960784 1.         1.         0.92156863\n",
      "  1.         0.96470588 1.         0.         0.02352941 0.00392157\n",
      "  0.03137255 0.00784314 0.         0.96862745 1.         1.\n",
      "  0.98431373 0.96862745 1.         1.         0.96862745 0.01960784\n",
      "  0.         0.         0.         0.        ]\n",
      " [0.         0.01568627 0.         0.         1.         0.97254902\n",
      "  0.99215686 1.         0.         0.03529412 0.         0.02745098\n",
      "  0.         0.         0.03921569 0.01176471 1.         0.94509804\n",
      "  1.         1.         0.94901961 1.         0.01960784 0.00392157\n",
      "  0.         0.         0.         0.        ]\n",
      " [0.01568627 0.00392157 0.07058824 0.04313725 0.         0.\n",
      "  0.02352941 0.         0.         0.         0.0627451  0.\n",
      "  0.         0.         0.01176471 0.         0.         0.01960784\n",
      "  0.         0.07843137 0.03921569 0.         0.01568627 0.\n",
      "  0.         0.         0.         0.        ]]\n"
     ]
    },
    {
     "data": {
      "image/png": "[encoded data removed]",
      "text/plain": [
       "<Figure size 432x288 with 1 Axes>"
      ]
     },
     "metadata": {
      "needs_background": "light"
     },
     "output_type": "display_data"
    }
   ],
   "source": [
    "plt.imshow(np.float32(img_arr/255.0),cmap=plt.cm.binary)\n",
    "print(img_arr)\n",
    "    "
   ]
  },
  {
   "cell_type": "code",
   "execution_count": 76,
   "metadata": {},
   "outputs": [],
   "source": [
    "class_names = ['No_alphabet', 'Epsilon', 'Mu', 'Omega', 'Lambda', \n",
    "               'Nu', 'Psi']"
   ]
  },
  {
   "cell_type": "code",
   "execution_count": 85,
   "metadata": {},
   "outputs": [
    {
     "name": "stdout",
     "output_type": "stream",
     "text": [
      "img_1.jpg\n"
     ]
    }
   ],
   "source": [
    "import csv\n",
    "with open(os.path.join(os.getcwd(),'train_labels.csv'), mode='r') as infile:\n",
    "    reader = csv.reader(infile)\n",
    "    next(reader, None)\n",
    "    for rows in reader:\n",
    "        filename = rows[0]\n",
    "        label = rows[1]\n",
    "    print(filename)"
   ]
  },
  {
   "cell_type": "markdown",
   "metadata": {},
   "source": [
    "import pandas as pd\n",
    "df=pd.read_csv(os.path.join(os.getcwd(),'train_labels.csv'), sep=',',header=None)\n",
    "print(df[1])"
   ]
  },
  {
   "cell_type": "code",
   "execution_count": 142,
   "metadata": {},
   "outputs": [
    {
     "name": "stdout",
     "output_type": "stream",
     "text": [
      "<class 'numpy.ndarray'>\n",
      "<class 'numpy.ndarray'>\n"
     ]
    }
   ],
   "source": [
    "import pandas as pd \n",
    "import glob\n",
    "df=pd.read_csv(os.path.join(os.getcwd(),'train_labels.csv'), sep=',',header=None) \n",
    "train = []\n",
    "train_labels = []\n",
    "files = glob.glob(\"/Users/sarthakarora/EC601/deep_learning/train_images/*.jpg\") # your image path\n",
    "\n",
    "for myFile in files:\n",
    "    image = plt.imread(myFile)\n",
    "    train.append (image)\n",
    "train = np.array(train,dtype='float32') \n",
    "train_labels = df.values\n",
    "print(type(train))\n",
    "print(type(train_labels))\n",
    "train = np.reshape(train,[train.shape[0],train.shape[1]*train.shape[2]*train.shape[3]])"
   ]
  },
  {
   "cell_type": "code",
   "execution_count": 133,
   "metadata": {},
   "outputs": [],
   "source": [
    "model = keras.Sequential([\n",
    "    keras.layers.Flatten(input_shape=(28, 28)),\n",
    "    keras.layers.Dense(128, activation=tf.nn.relu),\n",
    "    keras.layers.Dense(10, activation=tf.nn.softmax)\n",
    "])"
   ]
  },
  {
   "cell_type": "code",
   "execution_count": 134,
   "metadata": {},
   "outputs": [],
   "source": [
    "model.compile(optimizer=tf.train.AdamOptimizer(), \n",
    "              loss='sparse_categorical_crossentropy',\n",
    "              metrics=['accuracy'])"
   ]
  },
  {
   "cell_type": "code",
   "execution_count": 143,
   "metadata": {},
   "outputs": [
    {
     "ename": "ValueError",
     "evalue": "Error when checking target: expected dense_7 to have shape (1,) but got array with shape (2,)",
     "output_type": "error",
     "traceback": [
      "\u001b[0;31m---------------------------------------------------------------------------\u001b[0m",
      "\u001b[0;31mValueError\u001b[0m                                Traceback (most recent call last)",
      "\u001b[0;32m<ipython-input-143-a8f8d98d3aa1>\u001b[0m in \u001b[0;36m<module>\u001b[0;34m\u001b[0m\n\u001b[0;32m----> 1\u001b[0;31m \u001b[0mmodel\u001b[0m\u001b[0;34m.\u001b[0m\u001b[0mfit\u001b[0m\u001b[0;34m(\u001b[0m\u001b[0mtrain\u001b[0m\u001b[0;34m,\u001b[0m \u001b[0mtrain_labels\u001b[0m\u001b[0;34m,\u001b[0m \u001b[0mepochs\u001b[0m\u001b[0;34m=\u001b[0m\u001b[0;36m5\u001b[0m\u001b[0;34m)\u001b[0m\u001b[0;34m\u001b[0m\u001b[0m\n\u001b[0m",
      "\u001b[0;32m~/anaconda3/lib/python3.6/site-packages/tensorflow/python/keras/engine/training.py\u001b[0m in \u001b[0;36mfit\u001b[0;34m(self, x, y, batch_size, epochs, verbose, callbacks, validation_split, validation_data, shuffle, class_weight, sample_weight, initial_epoch, steps_per_epoch, validation_steps, **kwargs)\u001b[0m\n\u001b[1;32m   1507\u001b[0m         \u001b[0msteps_name\u001b[0m\u001b[0;34m=\u001b[0m\u001b[0;34m'steps_per_epoch'\u001b[0m\u001b[0;34m,\u001b[0m\u001b[0;34m\u001b[0m\u001b[0m\n\u001b[1;32m   1508\u001b[0m         \u001b[0msteps\u001b[0m\u001b[0;34m=\u001b[0m\u001b[0msteps_per_epoch\u001b[0m\u001b[0;34m,\u001b[0m\u001b[0;34m\u001b[0m\u001b[0m\n\u001b[0;32m-> 1509\u001b[0;31m         validation_split=validation_split)\n\u001b[0m\u001b[1;32m   1510\u001b[0m \u001b[0;34m\u001b[0m\u001b[0m\n\u001b[1;32m   1511\u001b[0m     \u001b[0;31m# Prepare validation data.\u001b[0m\u001b[0;34m\u001b[0m\u001b[0;34m\u001b[0m\u001b[0m\n",
      "\u001b[0;32m~/anaconda3/lib/python3.6/site-packages/tensorflow/python/keras/engine/training.py\u001b[0m in \u001b[0;36m_standardize_user_data\u001b[0;34m(self, x, y, sample_weight, class_weight, batch_size, check_steps, steps_name, steps, validation_split)\u001b[0m\n\u001b[1;32m    991\u001b[0m       \u001b[0mx\u001b[0m\u001b[0;34m,\u001b[0m \u001b[0my\u001b[0m \u001b[0;34m=\u001b[0m \u001b[0mnext_element\u001b[0m\u001b[0;34m\u001b[0m\u001b[0m\n\u001b[1;32m    992\u001b[0m     x, y, sample_weights = self._standardize_weights(x, y, sample_weight,\n\u001b[0;32m--> 993\u001b[0;31m                                                      class_weight, batch_size)\n\u001b[0m\u001b[1;32m    994\u001b[0m     \u001b[0;32mreturn\u001b[0m \u001b[0mx\u001b[0m\u001b[0;34m,\u001b[0m \u001b[0my\u001b[0m\u001b[0;34m,\u001b[0m \u001b[0msample_weights\u001b[0m\u001b[0;34m\u001b[0m\u001b[0m\n\u001b[1;32m    995\u001b[0m \u001b[0;34m\u001b[0m\u001b[0m\n",
      "\u001b[0;32m~/anaconda3/lib/python3.6/site-packages/tensorflow/python/keras/engine/training.py\u001b[0m in \u001b[0;36m_standardize_weights\u001b[0;34m(self, x, y, sample_weight, class_weight, batch_size)\u001b[0m\n\u001b[1;32m   1147\u001b[0m           \u001b[0mfeed_output_shapes\u001b[0m\u001b[0;34m,\u001b[0m\u001b[0;34m\u001b[0m\u001b[0m\n\u001b[1;32m   1148\u001b[0m           \u001b[0mcheck_batch_axis\u001b[0m\u001b[0;34m=\u001b[0m\u001b[0;32mFalse\u001b[0m\u001b[0;34m,\u001b[0m  \u001b[0;31m# Don't enforce the batch size.\u001b[0m\u001b[0;34m\u001b[0m\u001b[0m\n\u001b[0;32m-> 1149\u001b[0;31m           exception_prefix='target')\n\u001b[0m\u001b[1;32m   1150\u001b[0m \u001b[0;34m\u001b[0m\u001b[0m\n\u001b[1;32m   1151\u001b[0m       \u001b[0;31m# Generate sample-wise weight values given the `sample_weight` and\u001b[0m\u001b[0;34m\u001b[0m\u001b[0;34m\u001b[0m\u001b[0m\n",
      "\u001b[0;32m~/anaconda3/lib/python3.6/site-packages/tensorflow/python/keras/engine/training_utils.py\u001b[0m in \u001b[0;36mstandardize_input_data\u001b[0;34m(data, names, shapes, check_batch_axis, exception_prefix)\u001b[0m\n\u001b[1;32m    323\u001b[0m                 \u001b[0;34m'Error when checking '\u001b[0m \u001b[0;34m+\u001b[0m \u001b[0mexception_prefix\u001b[0m \u001b[0;34m+\u001b[0m \u001b[0;34m': expected '\u001b[0m \u001b[0;34m+\u001b[0m\u001b[0;34m\u001b[0m\u001b[0m\n\u001b[1;32m    324\u001b[0m                 \u001b[0mnames\u001b[0m\u001b[0;34m[\u001b[0m\u001b[0mi\u001b[0m\u001b[0;34m]\u001b[0m \u001b[0;34m+\u001b[0m \u001b[0;34m' to have shape '\u001b[0m \u001b[0;34m+\u001b[0m \u001b[0mstr\u001b[0m\u001b[0;34m(\u001b[0m\u001b[0mshape\u001b[0m\u001b[0;34m)\u001b[0m \u001b[0;34m+\u001b[0m\u001b[0;34m\u001b[0m\u001b[0m\n\u001b[0;32m--> 325\u001b[0;31m                 ' but got array with shape ' + str(data_shape))\n\u001b[0m\u001b[1;32m    326\u001b[0m   \u001b[0;32mreturn\u001b[0m \u001b[0mdata\u001b[0m\u001b[0;34m\u001b[0m\u001b[0m\n\u001b[1;32m    327\u001b[0m \u001b[0;34m\u001b[0m\u001b[0m\n",
      "\u001b[0;31mValueError\u001b[0m: Error when checking target: expected dense_7 to have shape (1,) but got array with shape (2,)"
     ]
    }
   ],
   "source": [
    "model.fit(train, train_labels, epochs=5)"
   ]
  },
  {
   "cell_type": "code",
   "execution_count": null,
   "metadata": {},
   "outputs": [],
   "source": []
  }
 ],
 "metadata": {
  "kernelspec": {
   "display_name": "Python 3",
   "language": "python",
   "name": "python3"
  },
  "language_info": {
   "codemirror_mode": {
    "name": "ipython",
    "version": 3
   },
   "file_extension": ".py",
   "mimetype": "text/x-python",
   "name": "python",
   "nbconvert_exporter": "python",
   "pygments_lexer": "ipython3",
   "version": "3.6.6"
  }
 },
 "nbformat": 4,
 "nbformat_minor": 2
}
