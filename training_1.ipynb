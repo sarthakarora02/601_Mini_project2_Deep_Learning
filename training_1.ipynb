{
 "cells": [
  {
   "cell_type": "code",
   "execution_count": 422,
   "metadata": {},
   "outputs": [],
   "source": [
    "import tensorflow as tf"
   ]
  },
  {
   "cell_type": "code",
   "execution_count": 423,
   "metadata": {},
   "outputs": [],
   "source": [
    "from tensorflow import keras"
   ]
  },
  {
   "cell_type": "code",
   "execution_count": 424,
   "metadata": {},
   "outputs": [],
   "source": [
    "import numpy as np\n",
    "import matplotlib.pyplot as plt"
   ]
  },
  {
   "cell_type": "code",
   "execution_count": 425,
   "metadata": {},
   "outputs": [],
   "source": [
    "folder = './train_images'\n",
    "import os"
   ]
  },
  {
   "cell_type": "code",
   "execution_count": 426,
   "metadata": {},
   "outputs": [
    {
     "data": {
      "text/plain": [
       "9934"
      ]
     },
     "execution_count": 426,
     "metadata": {},
     "output_type": "execute_result"
    }
   ],
   "source": [
    "filenames = os.listdir(folder)\n",
    "len(filenames)"
   ]
  },
  {
   "cell_type": "code",
   "execution_count": 427,
   "metadata": {},
   "outputs": [
    {
     "data": {
      "text/plain": [
       "'l_800.jpg'"
      ]
     },
     "execution_count": 427,
     "metadata": {},
     "output_type": "execute_result"
    }
   ],
   "source": [
    "filenames[12]"
   ]
  },
  {
   "cell_type": "code",
   "execution_count": 428,
   "metadata": {},
   "outputs": [
    {
     "name": "stdout",
     "output_type": "stream",
     "text": [
      "n train samples 9934\n"
     ]
    }
   ],
   "source": [
    "print('n train samples', len(filenames))"
   ]
  },
  {
   "cell_type": "code",
   "execution_count": 429,
   "metadata": {},
   "outputs": [],
   "source": [
    "path = os.getcwd()\n",
    "path_new = os.path.join(path,'train_images/')"
   ]
  },
  {
   "cell_type": "code",
   "execution_count": 430,
   "metadata": {},
   "outputs": [],
   "source": [
    "img_arr = plt.imread(os.path.join(path_new,filenames[0]))"
   ]
  },
  {
   "cell_type": "code",
   "execution_count": 431,
   "metadata": {},
   "outputs": [
    {
     "data": {
      "text/plain": [
       "<matplotlib.image.AxesImage at 0x1a3f12a748>"
      ]
     },
     "execution_count": 431,
     "metadata": {},
     "output_type": "execute_result"
    },
    {
     "data": {
      "image/png": "[encoded data removed]",
      "text/plain": [
       "<Figure size 432x288 with 1 Axes>"
      ]
     },
     "metadata": {
      "needs_background": "light"
     },
     "output_type": "display_data"
    }
   ],
   "source": [
    "plt.imshow(np.float32(img_arr))"
   ]
  },
  {
   "cell_type": "code",
   "execution_count": 432,
   "metadata": {},
   "outputs": [
    {
     "data": {
      "text/plain": [
       "<matplotlib.image.AxesImage at 0x1a3c223ef0>"
      ]
     },
     "execution_count": 432,
     "metadata": {},
     "output_type": "execute_result"
    },
    {
     "data": {
      "image/png": "[encoded data removed]",
      "text/plain": [
       "<Figure size 432x288 with 1 Axes>"
      ]
     },
     "metadata": {
      "needs_background": "light"
     },
     "output_type": "display_data"
    }
   ],
   "source": [
    "plt.imshow(np.float32(img_arr/255.0),cmap=plt.cm.binary)\n",
    "#print(img_arr)\n",
    "    "
   ]
  },
  {
   "cell_type": "code",
   "execution_count": 433,
   "metadata": {},
   "outputs": [],
   "source": [
    "class_names = ['No_alphabet', 'Epsilon', 'Mu', 'Omega', 'Lambda', \n",
    "               'Nu', 'Psi']"
   ]
  },
  {
   "cell_type": "code",
   "execution_count": 434,
   "metadata": {},
   "outputs": [
    {
     "name": "stdout",
     "output_type": "stream",
     "text": [
      "img_1.jpg\n"
     ]
    }
   ],
   "source": [
    "import csv\n",
    "with open(os.path.join(os.getcwd(),'train_labels.csv'), mode='r') as infile:\n",
    "    reader = csv.reader(infile)\n",
    "    next(reader, None)\n",
    "    for rows in reader:\n",
    "        filename = rows[0]\n",
    "        label = rows[1]\n",
    "    print(filename)"
   ]
  },
  {
   "cell_type": "code",
   "execution_count": 440,
   "metadata": {},
   "outputs": [
    {
     "name": "stdout",
     "output_type": "stream",
     "text": [
      "(9934,)\n",
      "(60,)\n"
     ]
    },
    {
     "data": {
      "image/png": "[encoded data removed]",
      "text/plain": [
       "<Figure size 432x288 with 1 Axes>"
      ]
     },
     "metadata": {
      "needs_background": "light"
     },
     "output_type": "display_data"
    }
   ],
   "source": [
    "import pandas as pd \n",
    "import glob\n",
    "df=pd.read_csv(os.path.join(os.getcwd(),'train_labels.csv'), sep=',',header=0) \n",
    "train = []\n",
    "train_labels = []\n",
    "files = glob.glob(\"/Users/sarthakarora/EC601/deep_learning/train_images/*.jpg\") # your image path\n",
    "\n",
    "for myFile in files:\n",
    "    image = plt.imread(myFile)\n",
    "    image_name = (os.path.relpath(myFile, '/Users/sarthakarora/EC601/deep_learning/train_images'))\n",
    "    l = len(image_name)\n",
    "    num = 0\n",
    "    train.append(image)\n",
    "    if(image_name[0] == 'i'):\n",
    "        if (l==9):\n",
    "            num = int(image_name[4])\n",
    "        elif (l==10):\n",
    "            num = int(image_name[4:6])\n",
    "        elif (l==11):\n",
    "            num = int(image_name[4:7])\n",
    "            \n",
    "        if(num>=1 and num<=117):\n",
    "            train_labels.append(1)\n",
    "        elif(num>=118 and num<=224):\n",
    "            train_labels.append(2)\n",
    "        elif(num>=225 and num<=344):\n",
    "            train_labels.append(3)\n",
    "        elif(num>=345 and num<=462):\n",
    "            train_labels.append(4)\n",
    "        elif(num>=463 and num<=580):\n",
    "            train_labels.append(5)\n",
    "        elif(num>=581 and num<=696):\n",
    "            train_labels.append(6)\n",
    "        else:\n",
    "            train_labels.append(0)\n",
    "    elif (image_name[0] == 'e'):\n",
    "        train_labels.append(1)\n",
    "    elif (image_name[0] == 'm'):\n",
    "        train_labels.append(2)\n",
    "    elif (image_name[0] == 'o'):\n",
    "        train_labels.append(3)\n",
    "    elif (image_name[0] == 'l'):\n",
    "        train_labels.append(4)\n",
    "    elif (image_name[0] == 'n'):\n",
    "        train_labels.append(5)\n",
    "    elif (image_name[0] == 'p'):\n",
    "        train_labels.append(6)\n",
    "    else:\n",
    "        train_labels.append(0)\n",
    "        \n",
    "train = np.array(train,dtype='float32') \n",
    "train_labels = np.array(train_labels,dtype='uint8')\n",
    "#train = train.reshape(train.shape[0],28,28,3)\n",
    "print(train_labels.shape)\n",
    "\n",
    "## Test images and labels\n",
    "test = []\n",
    "test_labels = []\n",
    "files = glob.glob(\"/Users/sarthakarora/EC601/deep_learning/test_images/*.jpg\") # your image path\n",
    "plt.imshow(plt.imread(files[0]))\n",
    "for myFile in files:\n",
    "    image = plt.imread(myFile)\n",
    "    image_name = (os.path.relpath(myFile, '/Users/sarthakarora/EC601/deep_learning/test_images'))\n",
    "    l = len(image_name)\n",
    "    num = 0\n",
    "    if (l==9):\n",
    "        num = int(image_name[4])\n",
    "    elif (l==10):\n",
    "        num = int(image_name[4:6])\n",
    "    if(num>=1 and num<=10):\n",
    "        test_labels.append(1)\n",
    "    elif(num>=11 and num<=20):\n",
    "        test_labels.append(2)\n",
    "    elif(num>=21 and num<=30):\n",
    "        test_labels.append(3)\n",
    "    elif(num>=31 and num<=40):\n",
    "        test_labels.append(4)\n",
    "    elif(num>=41 and num<=50):\n",
    "        test_labels.append(5)\n",
    "    elif(num>=51 and num<=60):\n",
    "        test_labels.append(6)\n",
    "    else:\n",
    "        test_labels.append(0)\n",
    "    test.append (image)\n",
    "test = np.array(test,dtype='float32') \n",
    "test_labels = np.array(test_labels,dtype='uint8')\n",
    "#test = test.reshape(test.shape[0],28,28,3)\n",
    "print(test_labels.shape)\n",
    "\n",
    "from sklearn.utils import shuffle\n",
    "train, train_labels = shuffle(train, train_labels, random_state = 4)\n",
    "test, test_labels = shuffle(test, test_labels, random_state = 4)\n"
   ]
  },
  {
   "cell_type": "code",
   "execution_count": 419,
   "metadata": {},
   "outputs": [],
   "source": [
    "input_shape = (28,28,3)\n",
    "model = keras.Sequential()\n",
    "model.add(keras.layers.Conv2D(32, kernel_size=(3, 3), strides=(1, 1),\n",
    "                 activation='relu',\n",
    "                 input_shape=input_shape))\n",
    "model.add(keras.layers.MaxPooling2D(pool_size=(2, 2), strides=(2, 2)))\n",
    "model.add(keras.layers.Conv2D(64, (3, 3), activation='relu'))\n",
    "model.add(keras.layers.MaxPooling2D(pool_size=(2, 2)))\n",
    "model.add(keras.layers.Flatten())\n",
    "model.add(keras.layers.Dense(1000, activation='relu'))\n",
    "model.add(keras.layers.Dense(7, activation='softmax'))"
   ]
  },
  {
   "cell_type": "code",
   "execution_count": 420,
   "metadata": {},
   "outputs": [],
   "source": [
    "model.compile(optimizer=tf.train.GradientDescentOptimizer(0.1), \n",
    "              loss='sparse_categorical_crossentropy',\n",
    "              metrics=['accuracy'])"
   ]
  },
  {
   "cell_type": "code",
   "execution_count": 421,
   "metadata": {},
   "outputs": [
    {
     "name": "stdout",
     "output_type": "stream",
     "text": [
      "Train on 7947 samples, validate on 1987 samples\n",
      "Epoch 1/10\n",
      "7947/7947 [==============================] - 4s 533us/step - loss: 13.2888 - acc: 0.1749 - val_loss: 13.2871 - val_acc: 0.1756\n",
      "Epoch 2/10\n",
      "7947/7947 [==============================] - 4s 452us/step - loss: 13.2989 - acc: 0.1749 - val_loss: 13.2871 - val_acc: 0.1756\n",
      "Epoch 3/10\n",
      "7947/7947 [==============================] - 4s 451us/step - loss: 13.2989 - acc: 0.1749 - val_loss: 13.2871 - val_acc: 0.1756\n",
      "Epoch 4/10\n",
      "7947/7947 [==============================] - 4s 455us/step - loss: 13.2989 - acc: 0.1749 - val_loss: 13.2871 - val_acc: 0.1756\n",
      "Epoch 5/10\n",
      "7947/7947 [==============================] - 4s 457us/step - loss: 13.2989 - acc: 0.1749 - val_loss: 13.2871 - val_acc: 0.1756\n",
      "Epoch 6/10\n",
      "7947/7947 [==============================] - 4s 468us/step - loss: 13.2989 - acc: 0.1749 - val_loss: 13.2871 - val_acc: 0.1756\n",
      "Epoch 7/10\n",
      "7947/7947 [==============================] - 4s 456us/step - loss: 13.2989 - acc: 0.1749 - val_loss: 13.2871 - val_acc: 0.1756\n",
      "Epoch 8/10\n",
      "7947/7947 [==============================] - 4s 460us/step - loss: 13.2989 - acc: 0.1749 - val_loss: 13.2871 - val_acc: 0.1756\n",
      "Epoch 9/10\n",
      "7947/7947 [==============================] - 4s 506us/step - loss: 13.2989 - acc: 0.1749 - val_loss: 13.2871 - val_acc: 0.1756\n",
      "Epoch 10/10\n",
      "7947/7947 [==============================] - 4s 494us/step - loss: 13.2989 - acc: 0.1749 - val_loss: 13.2871 - val_acc: 0.1756\n"
     ]
    },
    {
     "data": {
      "text/plain": [
       "<tensorflow.python.keras.callbacks.History at 0x1a454a2048>"
      ]
     },
     "execution_count": 421,
     "metadata": {},
     "output_type": "execute_result"
    }
   ],
   "source": [
    "model.fit(train, train_labels, batch_size = 50, epochs=10,validation_split = 0.2, shuffle = True)"
   ]
  },
  {
   "cell_type": "code",
   "execution_count": 385,
   "metadata": {},
   "outputs": [
    {
     "name": "stdout",
     "output_type": "stream",
     "text": [
      "60/60 [==============================] - 0s 196us/step\n",
      "Test accuracy: 0.16666666716337203\n"
     ]
    }
   ],
   "source": [
    "test_loss, test_acc = model.evaluate(test, test_labels)\n",
    "\n",
    "print('Test accuracy:', test_acc)"
   ]
  },
  {
   "cell_type": "code",
   "execution_count": 386,
   "metadata": {},
   "outputs": [],
   "source": [
    "predictions = model.predict(test)"
   ]
  },
  {
   "cell_type": "code",
   "execution_count": 387,
   "metadata": {},
   "outputs": [
    {
     "name": "stdout",
     "output_type": "stream",
     "text": [
      "5\n"
     ]
    }
   ],
   "source": [
    "print(np.argmax(predictions[0]))"
   ]
  },
  {
   "cell_type": "code",
   "execution_count": 388,
   "metadata": {},
   "outputs": [
    {
     "data": {
      "text/plain": [
       "5"
      ]
     },
     "execution_count": 388,
     "metadata": {},
     "output_type": "execute_result"
    }
   ],
   "source": [
    "np.argmax(predictions[1])"
   ]
  },
  {
   "cell_type": "code",
   "execution_count": 389,
   "metadata": {},
   "outputs": [
    {
     "data": {
      "text/plain": [
       "4"
      ]
     },
     "execution_count": 389,
     "metadata": {},
     "output_type": "execute_result"
    }
   ],
   "source": [
    "test_labels[1]"
   ]
  },
  {
   "cell_type": "code",
   "execution_count": 390,
   "metadata": {},
   "outputs": [
    {
     "name": "stdout",
     "output_type": "stream",
     "text": [
      "5   1\n",
      "5   4\n",
      "5   1\n",
      "5   4\n",
      "5   2\n",
      "5   2\n",
      "5   1\n",
      "5   1\n",
      "5   2\n",
      "5   2\n",
      "5   1\n",
      "5   1\n",
      "5   2\n",
      "5   3\n",
      "5   2\n",
      "5   1\n",
      "5   1\n",
      "5   2\n",
      "5   3\n",
      "5   6\n",
      "5   6\n",
      "5   5\n",
      "5   6\n",
      "5   5\n",
      "5   6\n",
      "5   5\n",
      "5   5\n",
      "5   6\n",
      "5   5\n",
      "5   6\n",
      "5   5\n",
      "5   5\n",
      "5   4\n",
      "5   6\n",
      "5   6\n",
      "5   5\n",
      "5   6\n",
      "5   5\n",
      "5   5\n",
      "5   6\n",
      "5   4\n",
      "5   3\n",
      "5   2\n",
      "5   1\n",
      "5   1\n",
      "5   2\n",
      "5   3\n",
      "5   3\n",
      "5   3\n",
      "5   4\n",
      "5   4\n",
      "5   3\n",
      "5   3\n",
      "5   4\n",
      "5   4\n",
      "5   3\n",
      "5   4\n",
      "5   2\n",
      "5   3\n",
      "5   4\n"
     ]
    }
   ],
   "source": [
    "for i,pred in enumerate(predictions):\n",
    "    print(np.argmax(predictions[i]),' ',test_labels[i])"
   ]
  },
  {
   "cell_type": "code",
   "execution_count": null,
   "metadata": {},
   "outputs": [],
   "source": []
  }
 ],
 "metadata": {
  "kernelspec": {
   "display_name": "Python 3",
   "language": "python",
   "name": "python3"
  },
  "language_info": {
   "codemirror_mode": {
    "name": "ipython",
    "version": 3
   },
   "file_extension": ".py",
   "mimetype": "text/x-python",
   "name": "python",
   "nbconvert_exporter": "python",
   "pygments_lexer": "ipython3",
   "version": "3.6.6"
  }
 },
 "nbformat": 4,
 "nbformat_minor": 2
}
