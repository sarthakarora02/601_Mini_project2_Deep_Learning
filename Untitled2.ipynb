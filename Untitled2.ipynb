{
 "cells": [
  {
   "cell_type": "code",
   "execution_count": 37,
   "metadata": {},
   "outputs": [],
   "source": [
    "import tensorflow as tf\n",
    "from tensorflow import keras\n",
    "import numpy as np\n",
    "import matplotlib.pyplot as plt\n",
    "from PIL import Image"
   ]
  },
  {
   "cell_type": "code",
   "execution_count": 38,
   "metadata": {},
   "outputs": [
    {
     "name": "stdout",
     "output_type": "stream",
     "text": [
      "[[[  0 255]\n",
      "  [  8 255]\n",
      "  [  0 255]\n",
      "  ...\n",
      "  [  0 255]\n",
      "  [  0 255]\n",
      "  [  0 255]]\n",
      "\n",
      " [[ 13 255]\n",
      "  [  0 255]\n",
      "  [  0 255]\n",
      "  ...\n",
      "  [  0 255]\n",
      "  [  0 255]\n",
      "  [  0 255]]\n",
      "\n",
      " [[  0 255]\n",
      "  [  8 255]\n",
      "  [  2 255]\n",
      "  ...\n",
      "  [  0 255]\n",
      "  [  0 255]\n",
      "  [  0 255]]\n",
      "\n",
      " ...\n",
      "\n",
      " [[255 255]\n",
      "  [248 255]\n",
      "  [255 255]\n",
      "  ...\n",
      "  [  0 255]\n",
      "  [  0 255]\n",
      "  [  0 255]]\n",
      "\n",
      " [[251 255]\n",
      "  [255 255]\n",
      "  [255 255]\n",
      "  ...\n",
      "  [  0 255]\n",
      "  [  0 255]\n",
      "  [  0 255]]\n",
      "\n",
      " [[255 255]\n",
      "  [247 255]\n",
      "  [255 255]\n",
      "  ...\n",
      "  [  0 255]\n",
      "  [  0 255]\n",
      "  [  0 255]]]\n"
     ]
    }
   ],
   "source": [
    "folder = './train_images'\n",
    "import os\n",
    "filenames = os.listdir(folder)\n",
    "len(filenames)\n",
    "img = Image.open('/Users/sarthakarora/EC601/deep_learning/train_images/'+filenames[0]).convert('LA')\n",
    "print (np.array(img))"
   ]
  },
  {
   "cell_type": "code",
   "execution_count": 39,
   "metadata": {},
   "outputs": [],
   "source": [
    "class_names = ['No_alphabet', 'Epsilon', 'Mu', 'Omega', 'Lambda', \n",
    "               'Nu', 'Psi']"
   ]
  },
  {
   "cell_type": "code",
   "execution_count": 44,
   "metadata": {},
   "outputs": [
    {
     "name": "stdout",
     "output_type": "stream",
     "text": [
      "(9934,)\n",
      "60\n"
     ]
    }
   ],
   "source": [
    "import pandas as pd \n",
    "import glob\n",
    "df=pd.read_csv(os.path.join(os.getcwd(),'train_labels.csv'), sep=',',header=0) \n",
    "train = []\n",
    "train_labels = []\n",
    "files = glob.glob(\"/Users/sarthakarora/EC601/deep_learning/train_images/*.jpg\") # your image path\n",
    "\n",
    "for myFile in files:\n",
    "    #img = Image.open(myFile).convert('LA')\n",
    "    image = plt.imread(myFile)\n",
    "    image_name = (os.path.relpath(myFile, '/Users/sarthakarora/EC601/deep_learning/train_images'))\n",
    "    l = len(image_name)\n",
    "    num = 0\n",
    "    train.append(image)\n",
    "    if(image_name[0] == 'i'):\n",
    "        if (l==9):\n",
    "            num = int(image_name[4])\n",
    "        elif (l==10):\n",
    "            num = int(image_name[4:6])\n",
    "        elif (l==11):\n",
    "            num = int(image_name[4:7])\n",
    "            \n",
    "        if(num>=1 and num<=117):\n",
    "            train_labels.append(1)\n",
    "        elif(num>=118 and num<=224):\n",
    "            train_labels.append(2)\n",
    "        elif(num>=225 and num<=344):\n",
    "            train_labels.append(3)\n",
    "        elif(num>=345 and num<=462):\n",
    "            train_labels.append(4)\n",
    "        elif(num>=463 and num<=580):\n",
    "            train_labels.append(5)\n",
    "        elif(num>=581 and num<=696):\n",
    "            train_labels.append(6)\n",
    "        else:\n",
    "            train_labels.append(0)\n",
    "    elif (image_name[0] == 'e'):\n",
    "        train_labels.append(1)\n",
    "    elif (image_name[0] == 'm'):\n",
    "        train_labels.append(2)\n",
    "    elif (image_name[0] == 'o'):\n",
    "        train_labels.append(3)\n",
    "    elif (image_name[0] == 'l'):\n",
    "        train_labels.append(4)\n",
    "    elif (image_name[0] == 'n'):\n",
    "        train_labels.append(5)\n",
    "    elif (image_name[0] == 'p'):\n",
    "        train_labels.append(6)\n",
    "    else:\n",
    "        train_labels.append(0)\n",
    "        \n",
    "train = np.array(train,dtype='float32') \n",
    "train_labels = np.array(train_labels,dtype='uint8')\n",
    "#train = train.reshape(train,(train.shape[0],28,28,3))\n",
    "train = train.reshape(train.shape[0], 28,28,1)\n",
    "print(train_labels.shape)\n",
    "\n",
    "## Test images and labels\n",
    "test = []\n",
    "test_labels = []\n",
    "files = glob.glob(\"/Users/sarthakarora/EC601/deep_learning/test_images/*.jpg\") # your image path\n",
    "\n",
    "for myFile in files:\n",
    "    #img = Image.open(myFile).convert('LA')\n",
    "    image = plt.imread(myFile)\n",
    "    image_name = (os.path.relpath(myFile, '/Users/sarthakarora/EC601/deep_learning/test_images'))\n",
    "    l = len(image_name)\n",
    "    num = 0\n",
    "    if (l==9):\n",
    "        num = int(image_name[4])\n",
    "    elif (l==10):\n",
    "        num = int(image_name[4:6])\n",
    "    if(num>=1 and num<=10):\n",
    "        test_labels.append(1)\n",
    "    elif(num>=11 and num<=20):\n",
    "        test_labels.append(2)\n",
    "    elif(num>=21 and num<=30):\n",
    "        test_labels.append(3)\n",
    "    elif(num>=31 and num<=40):\n",
    "        test_labels.append(4)\n",
    "    elif(num>=41 and num<=50):\n",
    "        test_labels.append(5)\n",
    "    elif(num>=51 and num<=60):\n",
    "        test_labels.append(6)\n",
    "    else:\n",
    "        test_labels.append(0)\n",
    "    test.append (image)\n",
    "test = np.array(test,dtype='float32') \n",
    "test_labels = np.array(test_labels,dtype='uint8')\n",
    "#test = test.reshape(test.shape[0],28,28,3)\n",
    "test = test.reshape(test.shape[0], 28,28,1)\n",
    "print(test_labels.shape[0])\n",
    "\n",
    "from sklearn.utils import shuffle\n",
    "train, train_labels = shuffle(train, train_labels, random_state = 4)\n",
    "test, test_labels = shuffle(test, test_labels, random_state = 4)\n",
    "\n"
   ]
  },
  {
   "cell_type": "code",
   "execution_count": 45,
   "metadata": {},
   "outputs": [],
   "source": [
    "input_shape = (28,28,1)\n",
    "model = keras.Sequential()\n",
    "model.add(keras.layers.Conv2D(32, kernel_size=(3, 3), strides=(1, 1),\n",
    "                 activation='relu',\n",
    "                 input_shape=input_shape))\n",
    "model.add(keras.layers.MaxPooling2D(pool_size=(2, 2), strides=(2, 2)))\n",
    "model.add(keras.layers.Conv2D(64, (3, 3), activation='relu'))\n",
    "model.add(keras.layers.MaxPooling2D(pool_size=(2, 2)))\n",
    "model.add(keras.layers.Flatten())\n",
    "model.add(keras.layers.Dense(1000, activation='relu'))\n",
    "model.add(keras.layers.Dense(7, activation='softmax'))"
   ]
  },
  {
   "cell_type": "code",
   "execution_count": 46,
   "metadata": {},
   "outputs": [],
   "source": [
    "model.compile(optimizer=tf.train.GradientDescentOptimizer(0.1), \n",
    "              loss='sparse_categorical_crossentropy',\n",
    "              metrics=['accuracy'])"
   ]
  },
  {
   "cell_type": "code",
   "execution_count": 47,
   "metadata": {},
   "outputs": [
    {
     "name": "stdout",
     "output_type": "stream",
     "text": [
      "Epoch 1/10\n",
      "9934/9934 [==============================] - 4s 452us/step - loss: 13.3014 - acc: 0.1743\n",
      "Epoch 2/10\n",
      "9934/9934 [==============================] - 4s 430us/step - loss: 13.2965 - acc: 0.1751\n",
      "Epoch 3/10\n",
      "9934/9934 [==============================] - 4s 430us/step - loss: 13.2965 - acc: 0.1751\n",
      "Epoch 4/10\n",
      "9934/9934 [==============================] - 4s 431us/step - loss: 13.2965 - acc: 0.1751\n",
      "Epoch 5/10\n",
      "9934/9934 [==============================] - 4s 443us/step - loss: 13.2965 - acc: 0.1751\n",
      "Epoch 6/10\n",
      "9934/9934 [==============================] - 4s 432us/step - loss: 13.2965 - acc: 0.1751\n",
      "Epoch 7/10\n",
      "9934/9934 [==============================] - 4s 444us/step - loss: 13.2965 - acc: 0.1751\n",
      "Epoch 8/10\n",
      "9934/9934 [==============================] - 4s 435us/step - loss: 13.2965 - acc: 0.1751\n",
      "Epoch 9/10\n",
      "9934/9934 [==============================] - 5s 458us/step - loss: 13.2965 - acc: 0.1751\n",
      "Epoch 10/10\n",
      "9934/9934 [==============================] - 5s 464us/step - loss: 13.2965 - acc: 0.1751\n"
     ]
    },
    {
     "data": {
      "text/plain": [
       "<tensorflow.python.keras.callbacks.History at 0xb267cce80>"
      ]
     },
     "execution_count": 47,
     "metadata": {},
     "output_type": "execute_result"
    }
   ],
   "source": [
    "model.fit(train, train_labels, batch_size = 50, epochs=10)"
   ]
  },
  {
   "cell_type": "code",
   "execution_count": null,
   "metadata": {},
   "outputs": [],
   "source": []
  }
 ],
 "metadata": {
  "kernelspec": {
   "display_name": "Python 3",
   "language": "python",
   "name": "python3"
  },
  "language_info": {
   "codemirror_mode": {
    "name": "ipython",
    "version": 3
   },
   "file_extension": ".py",
   "mimetype": "text/x-python",
   "name": "python",
   "nbconvert_exporter": "python",
   "pygments_lexer": "ipython3",
   "version": "3.6.6"
  }
 },
 "nbformat": 4,
 "nbformat_minor": 2
}
